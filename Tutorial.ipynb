{
 "cells": [
  {
   "cell_type": "code",
   "execution_count": null,
   "metadata": {},
   "outputs": [],
   "source": [
    "import footsim as fs\n",
    "import numpy as np\n",
    "import holoviews as hv # import holoviews package for plots and set some parameters\n",
    "from footsim.plotting import plot\n",
    "hv.notebook_extension()\n",
    "%output holomap='scrubber'\n",
    "\n",
    "import warnings\n",
    "warnings.filterwarnings('ignore')"
   ]
  },
  {
   "cell_type": "markdown",
   "metadata": {},
   "source": [
    "# Foot outline"
   ]
  },
  {
   "cell_type": "markdown",
   "metadata": {},
   "source": [
    "`footsim` includes a model of the foot surface. Its coordinate system is centered on the MMi region. Other spatial layouts can be used via the `Surface` class."
   ]
  },
  {
   "cell_type": "code",
   "execution_count": null,
   "metadata": {},
   "outputs": [],
   "source": [
    "%%output size=250\n",
    "plot(coord=10,tags=True)"
   ]
  },
  {
   "cell_type": "markdown",
   "metadata": {},
   "source": [
    "# Creating an afferent population"
   ]
  },
  {
   "cell_type": "markdown",
   "metadata": {},
   "source": [
    "`footsim` includes several `affpop_*` functions that generate commonly used `AfferentPopulation` objects. To create an afferent population on the foot with realistic afferent densities in each region, use the `affpop_foot()` function."
   ]
  },
  {
   "cell_type": "code",
   "execution_count": null,
   "metadata": {},
   "outputs": [],
   "source": [
    "a = fs.affpop_foot()\n",
    "print(a)"
   ]
  },
  {
   "cell_type": "markdown",
   "metadata": {},
   "source": [
    "To visualise the afferent innervation of the foot, pass the afferent population object `a` to the `plot` function."
   ]
  },
  {
   "cell_type": "code",
   "execution_count": null,
   "metadata": {},
   "outputs": [],
   "source": [
    "%%output size=250\n",
    "plot() * plot(a)"
   ]
  },
  {
   "cell_type": "markdown",
   "metadata": {},
   "source": [
    "To only view a single afferent class, index the afferent population using the name of that class."
   ]
  },
  {
   "cell_type": "code",
   "execution_count": null,
   "metadata": {},
   "outputs": [],
   "source": [
    "%%output size=250\n",
    "plot() * plot(a['FA1'])"
   ]
  },
  {
   "cell_type": "markdown",
   "metadata": {},
   "source": [
    "There are multiple arguments for `affpop_foot()`, which affect the afferent population that is gnerated.\n",
    " - region (str): limits the population to the region specifed\n",
    " - affclass (str): limits the population to the afferent class specified\n",
    " - density_multiplier (float): reduces (if <1) or increases (if >1) the afferent densities relative to their baseline"
   ]
  },
  {
   "cell_type": "code",
   "execution_count": null,
   "metadata": {},
   "outputs": [],
   "source": [
    "%%output size=250\n",
    "a_low_density = fs.affpop_foot(affclass='SA1', density_multiplier = 0.5)\n",
    "plot() * plot(a_low_density)"
   ]
  },
  {
   "cell_type": "markdown",
   "metadata": {},
   "source": [
    "# Generating stimuli"
   ]
  },
  {
   "cell_type": "markdown",
   "metadata": {},
   "source": [
    "Commonly used types of stimuli are included via `stim_*` functions. These include:\n",
    " - Ramp-and-hold stimuli\n",
    " - Sinusoidal vibrations\n",
    " - Generation of different shapes (e.g. circular or bar)"
   ]
  },
  {
   "cell_type": "markdown",
   "metadata": {},
   "source": [
    "## Ramp-and-hold stimuli"
   ]
  },
  {
   "cell_type": "markdown",
   "metadata": {},
   "source": [
    "This example generates a circular probe with a radius of 3mm that is indented and then retracted in a ramp-and-hold pattern."
   ]
  },
  {
   "cell_type": "code",
   "execution_count": null,
   "metadata": {},
   "outputs": [],
   "source": [
    "s_ramp = fs.stim_ramp(pin_radius=3., ramp_type='sin', ramp_len=0.2)"
   ]
  },
  {
   "cell_type": "markdown",
   "metadata": {},
   "source": [
    "Calling the `plot` function shows the temporal profile of the indentation trace:"
   ]
  },
  {
   "cell_type": "code",
   "execution_count": null,
   "metadata": {},
   "outputs": [],
   "source": [
    "plot(s_ramp)"
   ]
  },
  {
   "cell_type": "markdown",
   "metadata": {},
   "source": [
    "The stimulus can also be plotted spatially, showing the pin outline(s) on the surface of the foot sole."
   ]
  },
  {
   "cell_type": "code",
   "execution_count": null,
   "metadata": {},
   "outputs": [],
   "source": [
    "plot() * plot(s_ramp, spatial=True,bin=10)"
   ]
  },
  {
   "cell_type": "markdown",
   "metadata": {},
   "source": [
    "## Sinusoidal vibration"
   ]
  },
  {
   "cell_type": "markdown",
   "metadata": {},
   "source": [
    "Sinusoidal vibrations can be generated using the `stim_sine` function."
   ]
  },
  {
   "cell_type": "code",
   "execution_count": null,
   "metadata": {},
   "outputs": [],
   "source": [
    "s_sine = fs.stim_sine(freq=25)\n",
    "plot(s_sine)"
   ]
  },
  {
   "cell_type": "markdown",
   "metadata": {},
   "source": [
    "## Complex shapes"
   ]
  },
  {
   "cell_type": "markdown",
   "metadata": {},
   "source": [
    "Complex shapes can be created by simulating multiple probes simultaneously. A variety of different shapes can be created using the `shape_*` functions. Using the `stim_indent_shape` function, these shapes can then be combined with indentation profiles, e.g. generated by any of the `stim_*` functions to generate complex stimuli. The example below generates an elongated bar that is indented into the metatarsal region in a ramp-and-hold profile"
   ]
  },
  {
   "cell_type": "code",
   "execution_count": null,
   "metadata": {},
   "outputs": [],
   "source": [
    "s_bar = fs.stim_indent_shape(fs.shape_bar(width=50,height=20,pins_per_mm=0.5),\n",
    "                             fs.stim_ramp(amp=0.9,len=0.5,ramp_type='sin',ramp_len=0.25, pin_radius=3))\n",
    "plot() * plot(s_bar,spatial=True, bin=10)"
   ]
  },
  {
   "cell_type": "markdown",
   "metadata": {},
   "source": [
    "The example below generates a circular domed stimulus that is indented into the heel region."
   ]
  },
  {
   "cell_type": "code",
   "execution_count": null,
   "metadata": {},
   "outputs": [],
   "source": [
    "loc = (fs.foot_surface.centers[fs.foot_surface.tag2idx('HL')] + fs.foot_surface.centers[fs.foot_surface.tag2idx('HR')])/2.\n",
    "s_bar = fs.stim_indent_shape(fs.shape_circle(center=loc,hdiff=0.5, radius=15,pins_per_mm=0.5),\n",
    "                             fs.stim_ramp(amp=0.9,len=0.5,ramp_type='sin',ramp_len=0.25, pin_radius=3))\n",
    "plot() * plot(s_bar,spatial=True, bin=10)"
   ]
  },
  {
   "cell_type": "markdown",
   "metadata": {},
   "source": [
    "# Calculating responses"
   ]
  },
  {
   "cell_type": "markdown",
   "metadata": {},
   "source": [
    "The `response` method of `Afferent` and `AfferentPopulation` objects calculates the spiking response to any `Stimulus` object."
   ]
  },
  {
   "cell_type": "code",
   "execution_count": null,
   "metadata": {},
   "outputs": [],
   "source": [
    "r = a.response(s_bar)"
   ]
  },
  {
   "cell_type": "markdown",
   "metadata": {},
   "source": [
    "Calling the `plot` function produces a raster plot showing the spikes generated by each afferent in the population over time."
   ]
  },
  {
   "cell_type": "code",
   "execution_count": null,
   "metadata": {},
   "outputs": [],
   "source": [
    "plot(r)"
   ]
  },
  {
   "cell_type": "markdown",
   "metadata": {},
   "source": [
    "Neural responses can also be visualised spatially on the foot sole."
   ]
  },
  {
   "cell_type": "code",
   "execution_count": null,
   "metadata": {},
   "outputs": [],
   "source": [
    "%%output size=250\n",
    "plot() * plot(r,spatial=True,bin=50)"
   ]
  },
  {
   "cell_type": "markdown",
   "metadata": {},
   "source": [
    "# Foot surface attributes"
   ]
  },
  {
   "cell_type": "markdown",
   "metadata": {},
   "source": [
    "To find the centre coordinates for a region, use the `centers` property"
   ]
  },
  {
   "cell_type": "code",
   "execution_count": null,
   "metadata": {},
   "outputs": [],
   "source": [
    "centers = fs.foot_surface.centers\n",
    "centers"
   ]
  },
  {
   "cell_type": "markdown",
   "metadata": {},
   "source": [
    "To find which region a pair of coordinates is in, call the `locate` function"
   ]
  },
  {
   "cell_type": "code",
   "execution_count": null,
   "metadata": {},
   "outputs": [],
   "source": [
    "fs.foot_surface.locate(centers[0])"
   ]
  },
  {
   "cell_type": "markdown",
   "metadata": {},
   "source": [
    "To find the area of each of the foot regions in mm<sup>2</sup>, use the `area` property"
   ]
  },
  {
   "cell_type": "code",
   "execution_count": null,
   "metadata": {},
   "outputs": [],
   "source": [
    "fs.foot_surface.area"
   ]
  },
  {
   "cell_type": "markdown",
   "metadata": {},
   "source": [
    "You can find the coordinates for the foot boundaries using the `boundaries` property"
   ]
  },
  {
   "cell_type": "code",
   "execution_count": null,
   "metadata": {},
   "outputs": [],
   "source": [
    "fs.foot_surface.boundaries"
   ]
  },
  {
   "cell_type": "markdown",
   "metadata": {},
   "source": [
    "To find the density of each afferent in each region of the foot, call the `density` property"
   ]
  },
  {
   "cell_type": "code",
   "execution_count": null,
   "metadata": {},
   "outputs": [],
   "source": [
    "fs.foot_surface.density"
   ]
  }
 ],
 "metadata": {
  "kernelspec": {
   "display_name": "Python 3",
   "language": "python",
   "name": "python3"
  },
  "language_info": {
   "codemirror_mode": {
    "name": "ipython",
    "version": 3
   },
   "file_extension": ".py",
   "mimetype": "text/x-python",
   "name": "python",
   "nbconvert_exporter": "python",
   "pygments_lexer": "ipython3",
   "version": "3.8.8"
  }
 },
 "nbformat": 4,
 "nbformat_minor": 4
}
